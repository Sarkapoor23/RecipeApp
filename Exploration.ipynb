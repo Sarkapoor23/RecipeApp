{
 "cells": [
  {
   "cell_type": "code",
   "execution_count": 1,
   "metadata": {},
   "outputs": [
    {
     "name": "stderr",
     "output_type": "stream",
     "text": [
      "/Users/sarthak/Documents/Playground/RecipeApp/RecipeAppVenv/lib/python3.9/site-packages/tqdm/auto.py:21: TqdmWarning: IProgress not found. Please update jupyter and ipywidgets. See https://ipywidgets.readthedocs.io/en/stable/user_install.html\n",
      "  from .autonotebook import tqdm as notebook_tqdm\n"
     ]
    }
   ],
   "source": [
    "import pandas as pd\n",
    "import numpy as np\n",
    "from sentence_transformers import SentenceTransformer\n",
    "import faiss\n",
    "import os"
   ]
  },
  {
   "cell_type": "code",
   "execution_count": 2,
   "metadata": {},
   "outputs": [],
   "source": [
    "def load_and_sample_dataset(input_csv, sample_ratio=0.01):\n",
    "    # Load dataset\n",
    "    df = pd.read_csv(input_csv)\n",
    "    # Sample 1% of the dataset randomly\n",
    "    sample_df = df.sample(frac=sample_ratio)\n",
    "    # Save the sampled dataset to a new CSV\n",
    "    sample_csv = \"sample_set.csv\"\n",
    "    sample_df.to_csv(sample_csv, index=False)\n",
    "    return sample_csv"
   ]
  },
  {
   "cell_type": "code",
   "execution_count": 5,
   "metadata": {},
   "outputs": [],
   "source": [
    "input_csv = \"RecipeNLG_dataset.csv\"  # Change this to your dataset's filename\n",
    "sample_ratio = 0.01  # 1% of the data\n",
    "sample_csv = load_and_sample_dataset(input_csv, sample_ratio)"
   ]
  },
  {
   "cell_type": "code",
   "execution_count": 13,
   "metadata": {},
   "outputs": [],
   "source": [
    "def embed_data_with_sentence_transformers(csv_file, model_name, file_column):\n",
    "    # Load the sample dataset\n",
    "    df = pd.read_csv(csv_file)\n",
    "    # Assuming the text to be embedded is in the 'text' column\n",
    "    texts = df[file_column].tolist()\n",
    "    # Load the model\n",
    "    model = SentenceTransformer(model_name)\n",
    "    #Put the model on MPS\n",
    "    model = model.to(torch.device(\"mps\"))\n",
    "    # Generate embeddings\n",
    "    embeddings = model.encode(texts, show_progress_bar=True)\n",
    "    return embeddings\n",
    "\n",
    "\n",
    "def save_embeddings_to_csv(embeddings, output_file):\n",
    "    # Convert the embeddings into a DataFrame\n",
    "    embeddings_df = pd.DataFrame(embeddings)\n",
    "    # Save the DataFrame to a CSV file\n",
    "    embeddings_df.to_csv(output_file, index=False)\n",
    "    print(f\"Embeddings saved to {output_file}\")\n"
   ]
  },
  {
   "cell_type": "code",
   "execution_count": 14,
   "metadata": {},
   "outputs": [
    {
     "ename": "KeyError",
     "evalue": "'text'",
     "output_type": "error",
     "traceback": [
      "\u001b[0;31m---------------------------------------------------------------------------\u001b[0m",
      "\u001b[0;31mKeyError\u001b[0m                                  Traceback (most recent call last)",
      "File \u001b[0;32m~/Documents/Playground/RecipeApp/RecipeAppVenv/lib/python3.9/site-packages/pandas/core/indexes/base.py:3805\u001b[0m, in \u001b[0;36mIndex.get_loc\u001b[0;34m(self, key)\u001b[0m\n\u001b[1;32m   3804\u001b[0m \u001b[39mtry\u001b[39;00m:\n\u001b[0;32m-> 3805\u001b[0m     \u001b[39mreturn\u001b[39;00m \u001b[39mself\u001b[39;49m\u001b[39m.\u001b[39;49m_engine\u001b[39m.\u001b[39;49mget_loc(casted_key)\n\u001b[1;32m   3806\u001b[0m \u001b[39mexcept\u001b[39;00m \u001b[39mKeyError\u001b[39;00m \u001b[39mas\u001b[39;00m err:\n",
      "File \u001b[0;32mindex.pyx:167\u001b[0m, in \u001b[0;36mpandas._libs.index.IndexEngine.get_loc\u001b[0;34m()\u001b[0m\n",
      "File \u001b[0;32mindex.pyx:196\u001b[0m, in \u001b[0;36mpandas._libs.index.IndexEngine.get_loc\u001b[0;34m()\u001b[0m\n",
      "File \u001b[0;32mpandas/_libs/hashtable_class_helper.pxi:7081\u001b[0m, in \u001b[0;36mpandas._libs.hashtable.PyObjectHashTable.get_item\u001b[0;34m()\u001b[0m\n",
      "File \u001b[0;32mpandas/_libs/hashtable_class_helper.pxi:7089\u001b[0m, in \u001b[0;36mpandas._libs.hashtable.PyObjectHashTable.get_item\u001b[0;34m()\u001b[0m\n",
      "\u001b[0;31mKeyError\u001b[0m: 'text'",
      "\nThe above exception was the direct cause of the following exception:\n",
      "\u001b[0;31mKeyError\u001b[0m                                  Traceback (most recent call last)",
      "Cell \u001b[0;32mIn[14], line 1\u001b[0m\n\u001b[0;32m----> 1\u001b[0m Sample_Embeddings \u001b[38;5;241m=\u001b[39m \u001b[43membed_data_with_sentence_transformers\u001b[49m\u001b[43m(\u001b[49m\u001b[38;5;124;43m\"\u001b[39;49m\u001b[38;5;124;43msample_set.csv\u001b[39;49m\u001b[38;5;124;43m\"\u001b[39;49m\u001b[43m,\u001b[49m\u001b[43m \u001b[49m\u001b[43mmodel_name\u001b[49m\u001b[38;5;241;43m=\u001b[39;49m\u001b[38;5;124;43m'\u001b[39;49m\u001b[38;5;124;43mall-MiniLM-L6-v2\u001b[39;49m\u001b[38;5;124;43m'\u001b[39;49m\u001b[43m)\u001b[49m\n",
      "Cell \u001b[0;32mIn[13], line 5\u001b[0m, in \u001b[0;36membed_data_with_sentence_transformers\u001b[0;34m(csv_file, model_name)\u001b[0m\n\u001b[1;32m      3\u001b[0m df \u001b[38;5;241m=\u001b[39m pd\u001b[38;5;241m.\u001b[39mread_csv(csv_file)\n\u001b[1;32m      4\u001b[0m \u001b[38;5;66;03m# Assuming the text to be embedded is in the 'text' column\u001b[39;00m\n\u001b[0;32m----> 5\u001b[0m texts \u001b[38;5;241m=\u001b[39m \u001b[43mdf\u001b[49m\u001b[43m[\u001b[49m\u001b[38;5;124;43m'\u001b[39;49m\u001b[38;5;124;43mtext\u001b[39;49m\u001b[38;5;124;43m'\u001b[39;49m\u001b[43m]\u001b[49m\u001b[38;5;241m.\u001b[39mtolist()\n\u001b[1;32m      6\u001b[0m \u001b[38;5;66;03m# Load the model\u001b[39;00m\n\u001b[1;32m      7\u001b[0m model \u001b[38;5;241m=\u001b[39m SentenceTransformer(model_name)\n",
      "File \u001b[0;32m~/Documents/Playground/RecipeApp/RecipeAppVenv/lib/python3.9/site-packages/pandas/core/frame.py:4090\u001b[0m, in \u001b[0;36mDataFrame.__getitem__\u001b[0;34m(self, key)\u001b[0m\n\u001b[1;32m   4088\u001b[0m \u001b[39mif\u001b[39;00m \u001b[39mself\u001b[39m\u001b[39m.\u001b[39mcolumns\u001b[39m.\u001b[39mnlevels \u001b[39m>\u001b[39m \u001b[39m1\u001b[39m:\n\u001b[1;32m   4089\u001b[0m     \u001b[39mreturn\u001b[39;00m \u001b[39mself\u001b[39m\u001b[39m.\u001b[39m_getitem_multilevel(key)\n\u001b[0;32m-> 4090\u001b[0m indexer \u001b[39m=\u001b[39m \u001b[39mself\u001b[39;49m\u001b[39m.\u001b[39;49mcolumns\u001b[39m.\u001b[39;49mget_loc(key)\n\u001b[1;32m   4091\u001b[0m \u001b[39mif\u001b[39;00m is_integer(indexer):\n\u001b[1;32m   4092\u001b[0m     indexer \u001b[39m=\u001b[39m [indexer]\n",
      "File \u001b[0;32m~/Documents/Playground/RecipeApp/RecipeAppVenv/lib/python3.9/site-packages/pandas/core/indexes/base.py:3812\u001b[0m, in \u001b[0;36mIndex.get_loc\u001b[0;34m(self, key)\u001b[0m\n\u001b[1;32m   3807\u001b[0m     \u001b[39mif\u001b[39;00m \u001b[39misinstance\u001b[39m(casted_key, \u001b[39mslice\u001b[39m) \u001b[39mor\u001b[39;00m (\n\u001b[1;32m   3808\u001b[0m         \u001b[39misinstance\u001b[39m(casted_key, abc\u001b[39m.\u001b[39mIterable)\n\u001b[1;32m   3809\u001b[0m         \u001b[39mand\u001b[39;00m \u001b[39many\u001b[39m(\u001b[39misinstance\u001b[39m(x, \u001b[39mslice\u001b[39m) \u001b[39mfor\u001b[39;00m x \u001b[39min\u001b[39;00m casted_key)\n\u001b[1;32m   3810\u001b[0m     ):\n\u001b[1;32m   3811\u001b[0m         \u001b[39mraise\u001b[39;00m InvalidIndexError(key)\n\u001b[0;32m-> 3812\u001b[0m     \u001b[39mraise\u001b[39;00m \u001b[39mKeyError\u001b[39;00m(key) \u001b[39mfrom\u001b[39;00m \u001b[39merr\u001b[39;00m\n\u001b[1;32m   3813\u001b[0m \u001b[39mexcept\u001b[39;00m \u001b[39mTypeError\u001b[39;00m:\n\u001b[1;32m   3814\u001b[0m     \u001b[39m# If we have a listlike key, _check_indexing_error will raise\u001b[39;00m\n\u001b[1;32m   3815\u001b[0m     \u001b[39m#  InvalidIndexError. Otherwise we fall through and re-raise\u001b[39;00m\n\u001b[1;32m   3816\u001b[0m     \u001b[39m#  the TypeError.\u001b[39;00m\n\u001b[1;32m   3817\u001b[0m     \u001b[39mself\u001b[39m\u001b[39m.\u001b[39m_check_indexing_error(key)\n",
      "\u001b[0;31mKeyError\u001b[0m: 'text'"
     ]
    }
   ],
   "source": [
    "ingredients_embedings = embed_data_with_sentence_transformers(csv_file = \"sample_set.csv\", model_name='all-MiniLM-L6-v2', file_column ='ingredients')\n",
    "save_embeddings_to_csv(embeddings = ingredients_embedings, output_file = \"IngredientsEmbeddings.csv\")"
   ]
  },
  {
   "cell_type": "code",
   "execution_count": 1,
   "metadata": {},
   "outputs": [
    {
     "name": "stdout",
     "output_type": "stream",
     "text": [
      "\u001b[34mRecipeApp\u001b[m\u001b[m/     \u001b[34mRecipeAppVenv\u001b[m\u001b[m/\n"
     ]
    }
   ],
   "source": [
    "\n",
    "def load_and_sample_dataset(input_csv, sample_ratio=0.01):\n",
    "    # Load dataset\n",
    "    df = pd.read_csv(input_csv)\n",
    "    # Sample 1% of the dataset randomly\n",
    "    sample_df = df.sample(frac=sample_ratio)\n",
    "    # Save the sampled dataset to a new CSV\n",
    "    sample_csv = \"sample_set.csv\"\n",
    "    sample_df.to_csv(sample_csv, index=False)\n",
    "    return sample_csv\n",
    "\n",
    "def embed_data_with_sentence_transformers(csv_file, model_name='all-MiniLM-L6-v2'):\n",
    "    # Load the sample dataset\n",
    "    df = pd.read_csv(csv_file)\n",
    "    # Assuming the text to be embedded is in the 'text' column\n",
    "    texts = df['text'].tolist()\n",
    "    # Load the model\n",
    "    model = SentenceTransformer(model_name)\n",
    "    # Generate embeddings\n",
    "    embeddings = model.encode(texts, show_progress_bar=True)\n",
    "    return embeddings\n",
    "\n",
    "def create_faiss_index(embeddings):\n",
    "    # Dimension of the vectors\n",
    "    d = embeddings.shape[1]\n",
    "    # Creating a FAISS index\n",
    "    # Here we use IndexFlatL2 which is good for general purposes. \n",
    "    # You might want to explore other indices depending on your specific needs.\n",
    "    index = faiss.IndexFlatL2(d)\n",
    "    # FAISS expects vectors in float32\n",
    "    embeddings = embeddings.astype('float32')\n",
    "    # Adding vectors to the index\n",
    "    index.add(embeddings)\n",
    "    # Save the index\n",
    "    faiss.write_index(index, \"faiss_index.idx\")\n"
   ]
  },
  {
   "cell_type": "code",
   "execution_count": null,
   "metadata": {},
   "outputs": [],
   "source": [
    "def main():\n",
    "    input_csv = \"your_dataset.csv\"  # Change this to your dataset's filename\n",
    "    sample_ratio = 0.01  # 1% of the data\n",
    "    sample_csv = load_and_sample_dataset(input_csv, sample_ratio)\n",
    "    embeddings = embed_data_with_sentence_transformers(sample_csv)\n",
    "    create_faiss_index(embeddings)\n",
    "    print(\"Sample set created, embeddings generated, and FAISS index created.\")\n",
    "\n",
    "if __name__ == \"__main__\":\n",
    "    main()\n"
   ]
  }
 ],
 "metadata": {
  "kernelspec": {
   "display_name": "Python 3.9.13 ('RecipeAppVenv': venv)",
   "language": "python",
   "name": "python3"
  },
  "language_info": {
   "codemirror_mode": {
    "name": "ipython",
    "version": 3
   },
   "file_extension": ".py",
   "mimetype": "text/x-python",
   "name": "python",
   "nbconvert_exporter": "python",
   "pygments_lexer": "ipython3",
   "version": "3.9.13"
  },
  "orig_nbformat": 4,
  "vscode": {
   "interpreter": {
    "hash": "2c48c3f4b6bd8d0d9dfdd1d01073ee5b6606638a1c3ceb9259b7e0bbf637c102"
   }
  }
 },
 "nbformat": 4,
 "nbformat_minor": 2
}
