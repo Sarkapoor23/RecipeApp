{
 "cells": [
  {
   "cell_type": "code",
   "execution_count": 1,
   "metadata": {},
   "outputs": [
    {
     "name": "stderr",
     "output_type": "stream",
     "text": [
      "/Users/sarthak/Documents/Playground/RecipeApp/RecipeAppVenv/lib/python3.9/site-packages/tqdm/auto.py:21: TqdmWarning: IProgress not found. Please update jupyter and ipywidgets. See https://ipywidgets.readthedocs.io/en/stable/user_install.html\n",
      "  from .autonotebook import tqdm as notebook_tqdm\n"
     ]
    }
   ],
   "source": [
    "import pandas as pd\n",
    "import numpy as np\n",
    "from sentence_transformers import SentenceTransformer\n",
    "import faiss\n",
    "import os"
   ]
  },
  {
   "cell_type": "code",
   "execution_count": 2,
   "metadata": {},
   "outputs": [],
   "source": [
    "def load_and_sample_dataset(input_csv, sample_ratio=0.01):\n",
    "    # Load dataset\n",
    "    df = pd.read_csv(input_csv)\n",
    "    # Sample 1% of the dataset randomly\n",
    "    sample_df = df.sample(frac=sample_ratio)\n",
    "    # Save the sampled dataset to a new CSV\n",
    "    sample_csv = \"sample_set.csv\"\n",
    "    sample_df.to_csv(sample_csv, index=False)\n",
    "    return sample_csv"
   ]
  },
  {
   "cell_type": "code",
   "execution_count": 5,
   "metadata": {},
   "outputs": [],
   "source": [
    "input_csv = \"RecipeNLG_dataset.csv\"  # Change this to your dataset's filename\n",
    "sample_ratio = 0.01  # 1% of the data\n",
    "sample_csv = load_and_sample_dataset(input_csv, sample_ratio)"
   ]
  },
  {
   "cell_type": "code",
   "execution_count": 15,
   "metadata": {},
   "outputs": [],
   "source": [
    "def embed_data_with_sentence_transformers(csv_file, model_name, file_column):\n",
    "    # Load the sample dataset\n",
    "    df = pd.read_csv(csv_file)\n",
    "    # Assuming the text to be embedded is in the 'text' column\n",
    "    texts = df[file_column].tolist()\n",
    "    # Load the model\n",
    "    model = SentenceTransformer(model_name)\n",
    "    #Put the model on MPS\n",
    "    model = model.to(torch.device(\"mps\"))\n",
    "    # Generate embeddings\n",
    "    embeddings = model.encode(texts, show_progress_bar=True)\n",
    "    return embeddings\n",
    "\n",
    "\n",
    "def save_embeddings_to_csv(embeddings, output_file):\n",
    "    # Convert the embeddings into a DataFrame\n",
    "    embeddings_df = pd.DataFrame(embeddings)\n",
    "    # Save the DataFrame to a CSV file\n",
    "    embeddings_df.to_csv(output_file, index=False)\n",
    "    print(f\"Embeddings saved to {output_file}\")\n"
   ]
  },
  {
   "cell_type": "code",
   "execution_count": 16,
   "metadata": {},
   "outputs": [
    {
     "name": "stderr",
     "output_type": "stream",
     "text": [
      "Batches: 100%|██████████| 698/698 [01:15<00:00,  9.22it/s]\n"
     ]
    },
    {
     "name": "stdout",
     "output_type": "stream",
     "text": [
      "Embeddings saved to IngredientsEmbeddings.csv\n"
     ]
    }
   ],
   "source": [
    "ingredients_embedings = embed_data_with_sentence_transformers(csv_file = \"sample_set.csv\", model_name='all-MiniLM-L6-v2', file_column ='ingredients')\n",
    "save_embeddings_to_csv(embeddings = ingredients_embedings, output_file = \"IngredientsEmbeddings.csv\")"
   ]
  },
  {
   "cell_type": "code",
   "execution_count": 17,
   "metadata": {},
   "outputs": [
    {
     "name": "stderr",
     "output_type": "stream",
     "text": [
      "Batches: 100%|██████████| 698/698 [01:09<00:00, 10.04it/s]\n"
     ]
    },
    {
     "name": "stdout",
     "output_type": "stream",
     "text": [
      "Embeddings saved to DirectionsEmbeddings.csv\n"
     ]
    }
   ],
   "source": [
    "directions_embedings = embed_data_with_sentence_transformers(csv_file = \"sample_set.csv\", model_name='all-MiniLM-L6-v2', file_column ='directions')\n",
    "save_embeddings_to_csv(embeddings = directions_embedings, output_file = \"DirectionsEmbeddings.csv\")"
   ]
  },
  {
   "cell_type": "code",
   "execution_count": 18,
   "metadata": {},
   "outputs": [],
   "source": [
    "def create_faiss_index(embeddings, column_name):\n",
    "    # Dimension of the vectors\n",
    "    d = embeddings.shape[1]\n",
    "    # Creating a FAISS index\n",
    "    # Here we use IndexFlatL2 which is good for general purposes. \n",
    "    # You might want to explore other indices depending on your specific needs.\n",
    "    index = faiss.IndexFlatL2(d)\n",
    "    # FAISS expects vectors in float32\n",
    "    embeddings = embeddings.astype('float32')\n",
    "    # Adding vectors to the index\n",
    "    index.add(embeddings)\n",
    "    # Save the index to a file\n",
    "    index_file_path = str(column_name) + \".faiss\"\n",
    "    faiss.write_index(index, index_file_path)"
   ]
  },
  {
   "cell_type": "code",
   "execution_count": 19,
   "metadata": {},
   "outputs": [],
   "source": [
    "create_faiss_index(ingredients_embedings, 'ingredients')"
   ]
  },
  {
   "cell_type": "code",
   "execution_count": 20,
   "metadata": {},
   "outputs": [],
   "source": [
    "create_faiss_index(directions_embedings, 'directions')"
   ]
  },
  {
   "cell_type": "code",
   "execution_count": 27,
   "metadata": {},
   "outputs": [],
   "source": [
    "import numpy as np\n",
    "import faiss\n",
    "from sentence_transformers import SentenceTransformer\n",
    "\n",
    "class EmbeddingSearcher:\n",
    "    def __init__(self, model_name, index_file, sample_df):\n",
    "        # Load the Sentence Transformer model\n",
    "        self.model = SentenceTransformer(model_name)\n",
    "        # Load the FAISS index\n",
    "        self.index = faiss.read_index(index_file)\n",
    "        # Store the sample DataFrame\n",
    "        self.sample_df = sample_df\n",
    "    \n",
    "    def embed_and_search(self, text, top_n=5):\n",
    "        # Embed the text\n",
    "        query_embedding = self.model.encode([text], convert_to_tensor=True, show_progress_bar=True).cpu().numpy()\n",
    "        \n",
    "        # Search the index\n",
    "        distances, indices = self.index.search(query_embedding, top_n)\n",
    "        \n",
    "        # Print the full rows for the indices found\n",
    "        for idx in indices[0]:\n",
    "            # Use iloc to access the DataFrame row and print it\n",
    "            print(self.sample_df.iloc[idx])\n",
    "\n",
    "        return indices[0], distances[0]\n",
    "\n",
    "\n",
    "\n",
    "\n"
   ]
  },
  {
   "cell_type": "code",
   "execution_count": 28,
   "metadata": {},
   "outputs": [
    {
     "name": "stderr",
     "output_type": "stream",
     "text": [
      "Batches: 100%|██████████| 1/1 [00:00<00:00, 35.51it/s]"
     ]
    },
    {
     "name": "stdout",
     "output_type": "stream",
     "text": [
      "Unnamed: 0                                                 83018\n",
      "title                                   Red Potato And Egg Salad\n",
      "ingredients    [\"6 red potatoes, boiled and cut in half\", \"3 ...\n",
      "directions     [\"Combine the potatoes, eggs, scallions and ca...\n",
      "link             www.cookbooks.com/Recipe-Details.aspx?id=491476\n",
      "source                                                  Gathered\n",
      "NER            [\"red potatoes\", \"eggs\", \"scallion\", \"carrot\",...\n",
      "Name: 15358, dtype: object\n",
      "Unnamed: 0                                               2061185\n",
      "title                                Parmesan Au Gratin Potatoes\n",
      "ingredients    [\"5 large un peeled red potatoes, cooked in be...\n",
      "directions     [\"Remove cooled potatos from broth, peel and c...\n",
      "link           cookpad.com/us/recipes/340549-parmesan-au-grat...\n",
      "source                                                 Recipes1M\n",
      "NER            [\"red potatoes\", \"flour\", \"butter\", \"chicken s...\n",
      "Name: 11171, dtype: object\n",
      "Unnamed: 0                                               1538333\n",
      "title                                 Honey-Mustard Potato Salad\n",
      "ingredients    [\"5 pounds red potatoes\", \"2 cups chopped cele...\n",
      "directions     [\"Place potatoes in a saucepan and cover with ...\n",
      "link           www.tasteofhome.com/recipes/honey-mustard-pota...\n",
      "source                                                  Gathered\n",
      "NER            [\"red potatoes\", \"celery\", \"sweet red pepper\",...\n",
      "Name: 4930, dtype: object\n",
      "Unnamed: 0                                               1207287\n",
      "title                            Pan Roasted Chicken And Veggies\n",
      "ingredients    [\"1 1/2 lbs red potatoes, cut into 1 1/2-inch ...\n",
      "directions     [\"Preheat oven to 475\\u00b0F.\", \"In large roas...\n",
      "link           www.food.com/recipe/pan-roasted-chicken-and-ve...\n",
      "source                                                  Gathered\n",
      "NER            [\"red potatoes\", \"onion\", \"garlic\", \"olive oil...\n",
      "Name: 3161, dtype: object\n",
      "Unnamed: 0                                               1562958\n",
      "title                               Quiche With Hash Brown Crust\n",
      "ingredients    [\"3 whole Medium Size Potatoes, Washed, Peeled...\n",
      "directions     [\"Preheat the oven to 325 F.\", \"Squeeze shredd...\n",
      "link           tastykitchen.com/recipes/breakfastbrunch/quich...\n",
      "source                                                  Gathered\n",
      "NER            [\"Potatoes\", \"Salt\", \"Black Pepper\", \"Hot Sauc...\n",
      "Name: 18025, dtype: object\n",
      "Indices of top N most similar items: [15358 11171  4930  3161 18025]\n",
      "Corresponding distances: [0.5327559  0.54329157 0.5460544  0.5489533  0.5581025 ]\n"
     ]
    },
    {
     "name": "stderr",
     "output_type": "stream",
     "text": [
      "\n"
     ]
    }
   ],
   "source": [
    "# Assuming 'sample_set.csv' is the CSV file containing your sample set\n",
    "sample_df = pd.read_csv('sample_set.csv')\n",
    "# Example usage:\n",
    "# Initialize the searcher with the model, index, and sample DataFrame\n",
    "searcher = EmbeddingSearcher(model_name='all-MiniLM-L6-v2', index_file='ingredients.faiss', sample_df=sample_df)\n",
    "\n",
    "# The text you want to search for similar items\n",
    "query_text = \"Give me a recipe I can make with potatos, cumin, chicken thigh, bell peppers, and red wine.\"\n",
    "\n",
    "# Perform the embedding and search, which now also prints the relevant rows\n",
    "indices, distances = searcher.embed_and_search(query_text, top_n=5)\n",
    "\n",
    "\n",
    "print(\"Indices of top N most similar items:\", indices)\n",
    "print(\"Corresponding distances:\", distances)"
   ]
  },
  {
   "cell_type": "code",
   "execution_count": 26,
   "metadata": {},
   "outputs": [
    {
     "name": "stderr",
     "output_type": "stream",
     "text": [
      "Batches: 100%|██████████| 1/1 [00:00<00:00,  1.61it/s]"
     ]
    },
    {
     "name": "stdout",
     "output_type": "stream",
     "text": [
      "Indices of top N most similar items: [15358 11171  4930  3161 18025]\n",
      "Corresponding distances: [0.5327559  0.54329157 0.5460544  0.5489533  0.5581025 ]\n"
     ]
    },
    {
     "name": "stderr",
     "output_type": "stream",
     "text": [
      "\n"
     ]
    }
   ],
   "source": [
    "# Assuming 'sample_set.csv' is the CSV file containing your sample set\n",
    "sample_df = pd.read_csv('sample_set.csv')\n",
    "# Example usage:\n",
    "# Initialize the searcher with the model and index you have prepared\n",
    "searcher = EmbeddingSearcher(model_name='all-MiniLM-L6-v2', index_file='ingredients.faiss')\n",
    "\n",
    "# The text you want to search for similar items\n",
    "query_text = \"Give me a recipe I can make with potatos, cumin, chicken thigh, bell peppers, and red wine.\"\n",
    "\n",
    "# Perform the embedding and search\n",
    "indices, distances = searcher.embed_and_search(query_text, top_n=5)\n",
    "\n",
    "print(\"Indices of top N most similar items:\", indices)\n",
    "print(\"Corresponding distances:\", distances)"
   ]
  },
  {
   "cell_type": "code",
   "execution_count": 1,
   "metadata": {},
   "outputs": [
    {
     "name": "stdout",
     "output_type": "stream",
     "text": [
      "\u001b[34mRecipeApp\u001b[m\u001b[m/     \u001b[34mRecipeAppVenv\u001b[m\u001b[m/\n"
     ]
    }
   ],
   "source": [
    "\n",
    "def load_and_sample_dataset(input_csv, sample_ratio=0.01):\n",
    "    # Load dataset\n",
    "    df = pd.read_csv(input_csv)\n",
    "    # Sample 1% of the dataset randomly\n",
    "    sample_df = df.sample(frac=sample_ratio)\n",
    "    # Save the sampled dataset to a new CSV\n",
    "    sample_csv = \"sample_set.csv\"\n",
    "    sample_df.to_csv(sample_csv, index=False)\n",
    "    return sample_csv\n",
    "\n",
    "def embed_data_with_sentence_transformers(csv_file, model_name='all-MiniLM-L6-v2'):\n",
    "    # Load the sample dataset\n",
    "    df = pd.read_csv(csv_file)\n",
    "    # Assuming the text to be embedded is in the 'text' column\n",
    "    texts = df['text'].tolist()\n",
    "    # Load the model\n",
    "    model = SentenceTransformer(model_name)\n",
    "    # Generate embeddings\n",
    "    embeddings = model.encode(texts, show_progress_bar=True)\n",
    "    return embeddings\n",
    "\n",
    "def create_faiss_index(embeddings):\n",
    "    # Dimension of the vectors\n",
    "    d = embeddings.shape[1]\n",
    "    # Creating a FAISS index\n",
    "    # Here we use IndexFlatL2 which is good for general purposes. \n",
    "    # You might want to explore other indices depending on your specific needs.\n",
    "    index = faiss.IndexFlatL2(d)\n",
    "    # FAISS expects vectors in float32\n",
    "    embeddings = embeddings.astype('float32')\n",
    "    # Adding vectors to the index\n",
    "    index.add(embeddings)\n",
    "    # Save the index\n",
    "    faiss.write_index(index, \"faiss_index.idx\")\n"
   ]
  },
  {
   "cell_type": "code",
   "execution_count": null,
   "metadata": {},
   "outputs": [],
   "source": [
    "def main():\n",
    "    input_csv = \"your_dataset.csv\"  # Change this to your dataset's filename\n",
    "    sample_ratio = 0.01  # 1% of the data\n",
    "    sample_csv = load_and_sample_dataset(input_csv, sample_ratio)\n",
    "    embeddings = embed_data_with_sentence_transformers(sample_csv)\n",
    "    create_faiss_index(embeddings)\n",
    "    print(\"Sample set created, embeddings generated, and FAISS index created.\")\n",
    "\n",
    "if __name__ == \"__main__\":\n",
    "    main()\n"
   ]
  }
 ],
 "metadata": {
  "kernelspec": {
   "display_name": "Python 3.9.13 ('RecipeAppVenv': venv)",
   "language": "python",
   "name": "python3"
  },
  "language_info": {
   "codemirror_mode": {
    "name": "ipython",
    "version": 3
   },
   "file_extension": ".py",
   "mimetype": "text/x-python",
   "name": "python",
   "nbconvert_exporter": "python",
   "pygments_lexer": "ipython3",
   "version": "3.9.13"
  },
  "orig_nbformat": 4,
  "vscode": {
   "interpreter": {
    "hash": "2c48c3f4b6bd8d0d9dfdd1d01073ee5b6606638a1c3ceb9259b7e0bbf637c102"
   }
  }
 },
 "nbformat": 4,
 "nbformat_minor": 2
}
